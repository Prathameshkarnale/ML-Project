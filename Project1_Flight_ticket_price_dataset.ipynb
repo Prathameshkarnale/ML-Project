{
 "cells": [
  {
   "cell_type": "markdown",
   "metadata": {},
   "source": [
    "## Flight_ticket_price_Dataset\n",
    "\n",
    "I have collected this dataset fro the github link(https://github.com/dsrscientist/Data-Science-ML-Capstone-Projects).This dataset shows the data of various region,routes and duration of flights on the basis of which,we have to predict the price.\n",
    "\n",
    "i imported numpy and pandas for data operations,matplotlib and seaborn for visualization process and sklearn libraries modules for data shaping and metrics evaluation."
   ]
  },
  {
   "cell_type": "code",
   "execution_count": 1,
   "metadata": {},
   "outputs": [],
   "source": [
    "#importing the required libraries and metrices\n",
    "import numpy as np\n",
    "import pandas as pd\n",
    "import matplotlib.pyplot as plt\n",
    "import seaborn as sns\n",
    "from sklearn.model_selection import train_test_split,GridSearchCV,cross_val_score\n",
    "from sklearn.metrics import mean_squared_error,mean_absolute_error,r2_score\n",
    "\n",
    "#we need to suppress the warnings arises in detrmining random state\n",
    "import warnings\n",
    "warnings.filterwarnings('ignore')"
   ]
  },
  {
   "cell_type": "code",
   "execution_count": 2,
   "metadata": {},
   "outputs": [],
   "source": [
    "#accesing the dataset from the file folder\n",
    "f1=pd.read_excel('C:/Users/hp/Downloads/Data-Science-ML-Capstone-Projects-master/Flight_Ticket_Participant_Datasets/Data_Train.xlsx',parse_dates=[\"Date_of_Journey\",\"Dep_Time\",\"Arrival_Time\"])\n",
    "flight1=pd.DataFrame(f1)\n",
    "flight1[\"data\"]=\"train\"\n",
    "f2=pd.read_excel('C:/Users/hp/Downloads/Data-Science-ML-Capstone-Projects-master/Flight_Ticket_Participant_Datasets/Test_set.xlsx',parse_dates=[\"Date_of_Journey\",\"Dep_Time\",\"Arrival_Time\"])\n",
    "flight2=pd.DataFrame(f2)\n",
    "flight2[\"data\"]=\"test\""
   ]
  },
  {
   "cell_type": "code",
   "execution_count": 3,
   "metadata": {},
   "outputs": [
    {
     "data": {
      "text/html": [
       "<div>\n",
       "<style scoped>\n",
       "    .dataframe tbody tr th:only-of-type {\n",
       "        vertical-align: middle;\n",
       "    }\n",
       "\n",
       "    .dataframe tbody tr th {\n",
       "        vertical-align: top;\n",
       "    }\n",
       "\n",
       "    .dataframe thead th {\n",
       "        text-align: right;\n",
       "    }\n",
       "</style>\n",
       "<table border=\"1\" class=\"dataframe\">\n",
       "  <thead>\n",
       "    <tr style=\"text-align: right;\">\n",
       "      <th></th>\n",
       "      <th>Airline</th>\n",
       "      <th>Date_of_Journey</th>\n",
       "      <th>Source</th>\n",
       "      <th>Destination</th>\n",
       "      <th>Route</th>\n",
       "      <th>Dep_Time</th>\n",
       "      <th>Arrival_Time</th>\n",
       "      <th>Duration</th>\n",
       "      <th>Total_Stops</th>\n",
       "      <th>Additional_Info</th>\n",
       "      <th>Price</th>\n",
       "      <th>data</th>\n",
       "    </tr>\n",
       "  </thead>\n",
       "  <tbody>\n",
       "    <tr>\n",
       "      <td>0</td>\n",
       "      <td>IndiGo</td>\n",
       "      <td>2019-03-24</td>\n",
       "      <td>Banglore</td>\n",
       "      <td>New Delhi</td>\n",
       "      <td>BLR → DEL</td>\n",
       "      <td>2020-05-26 22:20:00</td>\n",
       "      <td>2020-03-22 01:10:00</td>\n",
       "      <td>2h 50m</td>\n",
       "      <td>non-stop</td>\n",
       "      <td>No info</td>\n",
       "      <td>3897</td>\n",
       "      <td>train</td>\n",
       "    </tr>\n",
       "    <tr>\n",
       "      <td>1</td>\n",
       "      <td>Air India</td>\n",
       "      <td>2019-01-05</td>\n",
       "      <td>Kolkata</td>\n",
       "      <td>Banglore</td>\n",
       "      <td>CCU → IXR → BBI → BLR</td>\n",
       "      <td>2020-05-26 05:50:00</td>\n",
       "      <td>2020-05-26 13:15:00</td>\n",
       "      <td>7h 25m</td>\n",
       "      <td>2 stops</td>\n",
       "      <td>No info</td>\n",
       "      <td>7662</td>\n",
       "      <td>train</td>\n",
       "    </tr>\n",
       "    <tr>\n",
       "      <td>2</td>\n",
       "      <td>Jet Airways</td>\n",
       "      <td>2019-09-06</td>\n",
       "      <td>Delhi</td>\n",
       "      <td>Cochin</td>\n",
       "      <td>DEL → LKO → BOM → COK</td>\n",
       "      <td>2020-05-26 09:25:00</td>\n",
       "      <td>2020-06-10 04:25:00</td>\n",
       "      <td>19h</td>\n",
       "      <td>2 stops</td>\n",
       "      <td>No info</td>\n",
       "      <td>13882</td>\n",
       "      <td>train</td>\n",
       "    </tr>\n",
       "    <tr>\n",
       "      <td>3</td>\n",
       "      <td>IndiGo</td>\n",
       "      <td>2019-12-05</td>\n",
       "      <td>Kolkata</td>\n",
       "      <td>Banglore</td>\n",
       "      <td>CCU → NAG → BLR</td>\n",
       "      <td>2020-05-26 18:05:00</td>\n",
       "      <td>2020-05-26 23:30:00</td>\n",
       "      <td>5h 25m</td>\n",
       "      <td>1 stop</td>\n",
       "      <td>No info</td>\n",
       "      <td>6218</td>\n",
       "      <td>train</td>\n",
       "    </tr>\n",
       "    <tr>\n",
       "      <td>4</td>\n",
       "      <td>IndiGo</td>\n",
       "      <td>2019-01-03</td>\n",
       "      <td>Banglore</td>\n",
       "      <td>New Delhi</td>\n",
       "      <td>BLR → NAG → DEL</td>\n",
       "      <td>2020-05-26 16:50:00</td>\n",
       "      <td>2020-05-26 21:35:00</td>\n",
       "      <td>4h 45m</td>\n",
       "      <td>1 stop</td>\n",
       "      <td>No info</td>\n",
       "      <td>13302</td>\n",
       "      <td>train</td>\n",
       "    </tr>\n",
       "  </tbody>\n",
       "</table>\n",
       "</div>"
      ],
      "text/plain": [
       "       Airline Date_of_Journey    Source Destination                  Route  \\\n",
       "0       IndiGo      2019-03-24  Banglore   New Delhi              BLR → DEL   \n",
       "1    Air India      2019-01-05   Kolkata    Banglore  CCU → IXR → BBI → BLR   \n",
       "2  Jet Airways      2019-09-06     Delhi      Cochin  DEL → LKO → BOM → COK   \n",
       "3       IndiGo      2019-12-05   Kolkata    Banglore        CCU → NAG → BLR   \n",
       "4       IndiGo      2019-01-03  Banglore   New Delhi        BLR → NAG → DEL   \n",
       "\n",
       "             Dep_Time        Arrival_Time Duration Total_Stops  \\\n",
       "0 2020-05-26 22:20:00 2020-03-22 01:10:00   2h 50m    non-stop   \n",
       "1 2020-05-26 05:50:00 2020-05-26 13:15:00   7h 25m     2 stops   \n",
       "2 2020-05-26 09:25:00 2020-06-10 04:25:00      19h     2 stops   \n",
       "3 2020-05-26 18:05:00 2020-05-26 23:30:00   5h 25m      1 stop   \n",
       "4 2020-05-26 16:50:00 2020-05-26 21:35:00   4h 45m      1 stop   \n",
       "\n",
       "  Additional_Info  Price   data  \n",
       "0         No info   3897  train  \n",
       "1         No info   7662  train  \n",
       "2         No info  13882  train  \n",
       "3         No info   6218  train  \n",
       "4         No info  13302  train  "
      ]
     },
     "execution_count": 3,
     "metadata": {},
     "output_type": "execute_result"
    }
   ],
   "source": [
    "#looking for the structure of the train data\n",
    "flight1.head()"
   ]
  },
  {
   "cell_type": "code",
   "execution_count": 4,
   "metadata": {},
   "outputs": [
    {
     "data": {
      "text/html": [
       "<div>\n",
       "<style scoped>\n",
       "    .dataframe tbody tr th:only-of-type {\n",
       "        vertical-align: middle;\n",
       "    }\n",
       "\n",
       "    .dataframe tbody tr th {\n",
       "        vertical-align: top;\n",
       "    }\n",
       "\n",
       "    .dataframe thead th {\n",
       "        text-align: right;\n",
       "    }\n",
       "</style>\n",
       "<table border=\"1\" class=\"dataframe\">\n",
       "  <thead>\n",
       "    <tr style=\"text-align: right;\">\n",
       "      <th></th>\n",
       "      <th>Airline</th>\n",
       "      <th>Date_of_Journey</th>\n",
       "      <th>Source</th>\n",
       "      <th>Destination</th>\n",
       "      <th>Route</th>\n",
       "      <th>Dep_Time</th>\n",
       "      <th>Arrival_Time</th>\n",
       "      <th>Duration</th>\n",
       "      <th>Total_Stops</th>\n",
       "      <th>Additional_Info</th>\n",
       "      <th>data</th>\n",
       "    </tr>\n",
       "  </thead>\n",
       "  <tbody>\n",
       "    <tr>\n",
       "      <td>0</td>\n",
       "      <td>Jet Airways</td>\n",
       "      <td>2019-06-06</td>\n",
       "      <td>Delhi</td>\n",
       "      <td>Cochin</td>\n",
       "      <td>DEL → BOM → COK</td>\n",
       "      <td>2020-05-26 17:30:00</td>\n",
       "      <td>2020-06-07 04:25:00</td>\n",
       "      <td>10h 55m</td>\n",
       "      <td>1 stop</td>\n",
       "      <td>No info</td>\n",
       "      <td>test</td>\n",
       "    </tr>\n",
       "    <tr>\n",
       "      <td>1</td>\n",
       "      <td>IndiGo</td>\n",
       "      <td>2019-12-05</td>\n",
       "      <td>Kolkata</td>\n",
       "      <td>Banglore</td>\n",
       "      <td>CCU → MAA → BLR</td>\n",
       "      <td>2020-05-26 06:20:00</td>\n",
       "      <td>2020-05-26 10:20:00</td>\n",
       "      <td>4h</td>\n",
       "      <td>1 stop</td>\n",
       "      <td>No info</td>\n",
       "      <td>test</td>\n",
       "    </tr>\n",
       "    <tr>\n",
       "      <td>2</td>\n",
       "      <td>Jet Airways</td>\n",
       "      <td>2019-05-21</td>\n",
       "      <td>Delhi</td>\n",
       "      <td>Cochin</td>\n",
       "      <td>DEL → BOM → COK</td>\n",
       "      <td>2020-05-26 19:15:00</td>\n",
       "      <td>2020-05-22 19:00:00</td>\n",
       "      <td>23h 45m</td>\n",
       "      <td>1 stop</td>\n",
       "      <td>In-flight meal not included</td>\n",
       "      <td>test</td>\n",
       "    </tr>\n",
       "    <tr>\n",
       "      <td>3</td>\n",
       "      <td>Multiple carriers</td>\n",
       "      <td>2019-05-21</td>\n",
       "      <td>Delhi</td>\n",
       "      <td>Cochin</td>\n",
       "      <td>DEL → BOM → COK</td>\n",
       "      <td>2020-05-26 08:00:00</td>\n",
       "      <td>2020-05-26 21:00:00</td>\n",
       "      <td>13h</td>\n",
       "      <td>1 stop</td>\n",
       "      <td>No info</td>\n",
       "      <td>test</td>\n",
       "    </tr>\n",
       "    <tr>\n",
       "      <td>4</td>\n",
       "      <td>Air Asia</td>\n",
       "      <td>2019-06-24</td>\n",
       "      <td>Banglore</td>\n",
       "      <td>Delhi</td>\n",
       "      <td>BLR → DEL</td>\n",
       "      <td>2020-05-26 23:55:00</td>\n",
       "      <td>2020-06-25 02:45:00</td>\n",
       "      <td>2h 50m</td>\n",
       "      <td>non-stop</td>\n",
       "      <td>No info</td>\n",
       "      <td>test</td>\n",
       "    </tr>\n",
       "  </tbody>\n",
       "</table>\n",
       "</div>"
      ],
      "text/plain": [
       "             Airline Date_of_Journey    Source Destination            Route  \\\n",
       "0        Jet Airways      2019-06-06     Delhi      Cochin  DEL → BOM → COK   \n",
       "1             IndiGo      2019-12-05   Kolkata    Banglore  CCU → MAA → BLR   \n",
       "2        Jet Airways      2019-05-21     Delhi      Cochin  DEL → BOM → COK   \n",
       "3  Multiple carriers      2019-05-21     Delhi      Cochin  DEL → BOM → COK   \n",
       "4           Air Asia      2019-06-24  Banglore       Delhi        BLR → DEL   \n",
       "\n",
       "             Dep_Time        Arrival_Time Duration Total_Stops  \\\n",
       "0 2020-05-26 17:30:00 2020-06-07 04:25:00  10h 55m      1 stop   \n",
       "1 2020-05-26 06:20:00 2020-05-26 10:20:00       4h      1 stop   \n",
       "2 2020-05-26 19:15:00 2020-05-22 19:00:00  23h 45m      1 stop   \n",
       "3 2020-05-26 08:00:00 2020-05-26 21:00:00      13h      1 stop   \n",
       "4 2020-05-26 23:55:00 2020-06-25 02:45:00   2h 50m    non-stop   \n",
       "\n",
       "               Additional_Info  data  \n",
       "0                      No info  test  \n",
       "1                      No info  test  \n",
       "2  In-flight meal not included  test  \n",
       "3                      No info  test  \n",
       "4                      No info  test  "
      ]
     },
     "execution_count": 4,
     "metadata": {},
     "output_type": "execute_result"
    }
   ],
   "source": [
    "#looking for the structure of the test data\n",
    "flight2.head()"
   ]
  },
  {
   "cell_type": "code",
   "execution_count": 5,
   "metadata": {},
   "outputs": [
    {
     "name": "stdout",
     "output_type": "stream",
     "text": [
      "(10683, 12)\n",
      "(2671, 11)\n"
     ]
    }
   ],
   "source": [
    "#looking for the shape of the dataset\n",
    "print(flight1.shape)\n",
    "print(flight2.shape)"
   ]
  },
  {
   "cell_type": "code",
   "execution_count": 6,
   "metadata": {},
   "outputs": [
    {
     "data": {
      "text/plain": [
       "Airline            0\n",
       "Date_of_Journey    0\n",
       "Source             0\n",
       "Destination        0\n",
       "Route              1\n",
       "Dep_Time           0\n",
       "Arrival_Time       0\n",
       "Duration           0\n",
       "Total_Stops        1\n",
       "Additional_Info    0\n",
       "Price              0\n",
       "data               0\n",
       "dtype: int64"
      ]
     },
     "execution_count": 6,
     "metadata": {},
     "output_type": "execute_result"
    }
   ],
   "source": [
    "#checkung for null values in train data\n",
    "flight1.isnull().sum()\n",
    "\n",
    "#it shows we have null data in route and Total_stops column"
   ]
  },
  {
   "cell_type": "code",
   "execution_count": 7,
   "metadata": {},
   "outputs": [
    {
     "data": {
      "text/plain": [
       "Airline            0\n",
       "Date_of_Journey    0\n",
       "Source             0\n",
       "Destination        0\n",
       "Route              0\n",
       "Dep_Time           0\n",
       "Arrival_Time       0\n",
       "Duration           0\n",
       "Total_Stops        0\n",
       "Additional_Info    0\n",
       "data               0\n",
       "dtype: int64"
      ]
     },
     "execution_count": 7,
     "metadata": {},
     "output_type": "execute_result"
    }
   ],
   "source": [
    "#lets check for null values in test dataset\n",
    "flight2.isnull().sum()\n",
    "\n",
    "#There is no null values in the test dataset"
   ]
  },
  {
   "cell_type": "code",
   "execution_count": 8,
   "metadata": {},
   "outputs": [
    {
     "data": {
      "text/plain": [
       "0    DEL → BOM → COK\n",
       "dtype: object"
      ]
     },
     "execution_count": 8,
     "metadata": {},
     "output_type": "execute_result"
    }
   ],
   "source": [
    "#getting the mode values from route in train dataset\n",
    "flight1['Route'].mode()"
   ]
  },
  {
   "cell_type": "code",
   "execution_count": 9,
   "metadata": {},
   "outputs": [
    {
     "data": {
      "text/plain": [
       "0    1 stop\n",
       "dtype: object"
      ]
     },
     "execution_count": 9,
     "metadata": {},
     "output_type": "execute_result"
    }
   ],
   "source": [
    "#getting the mode values from total_stops in train dataset\n",
    "flight1['Total_Stops'].mode()"
   ]
  },
  {
   "cell_type": "code",
   "execution_count": 10,
   "metadata": {},
   "outputs": [],
   "source": [
    "#replacing the null values using mode values in train dataset\n",
    "flight1['Route']=flight1['Route'].replace(np.NaN,'DEL → BOM → COK')\n",
    "flight1['Total_Stops']=flight1['Total_Stops'].replace(np.NaN,'1 stop')"
   ]
  },
  {
   "cell_type": "code",
   "execution_count": 11,
   "metadata": {},
   "outputs": [],
   "source": [
    "#Merging the datasets \n",
    "flight=pd.concat([flight1,flight2],ignore_index=True)"
   ]
  },
  {
   "cell_type": "code",
   "execution_count": 12,
   "metadata": {},
   "outputs": [
    {
     "data": {
      "text/plain": [
       "Additional_Info            object\n",
       "Airline                    object\n",
       "Arrival_Time       datetime64[ns]\n",
       "Date_of_Journey    datetime64[ns]\n",
       "Dep_Time           datetime64[ns]\n",
       "Destination                object\n",
       "Duration                   object\n",
       "Price                     float64\n",
       "Route                      object\n",
       "Source                     object\n",
       "Total_Stops                object\n",
       "data                       object\n",
       "dtype: object"
      ]
     },
     "execution_count": 12,
     "metadata": {},
     "output_type": "execute_result"
    }
   ],
   "source": [
    "#checking for the datatypes\n",
    "flight.dtypes"
   ]
  },
  {
   "cell_type": "code",
   "execution_count": 13,
   "metadata": {},
   "outputs": [
    {
     "name": "stdout",
     "output_type": "stream",
     "text": [
      "No info                         10493\n",
      "In-flight meal not included      2426\n",
      "No check-in baggage included      396\n",
      "1 Long layover                     20\n",
      "Change airports                     8\n",
      "Business class                      5\n",
      "No Info                             3\n",
      "2 Long layover                      1\n",
      "Red-eye flight                      1\n",
      "1 Short layover                     1\n",
      "Name: Additional_Info, dtype: int64\n",
      "Jet Airways                          4746\n",
      "IndiGo                               2564\n",
      "Air India                            2192\n",
      "Multiple carriers                    1543\n",
      "SpiceJet                             1026\n",
      "Vistara                               608\n",
      "Air Asia                              405\n",
      "GoAir                                 240\n",
      "Multiple carriers Premium economy      16\n",
      "Jet Airways Business                    8\n",
      "Vistara Premium economy                 5\n",
      "Trujet                                  1\n",
      "Name: Airline, dtype: int64\n",
      "2020-05-26 19:00:00    536\n",
      "2020-05-26 21:00:00    466\n",
      "2020-05-26 19:15:00    434\n",
      "2020-05-26 16:10:00    185\n",
      "2020-05-26 12:35:00    159\n",
      "                      ... \n",
      "2020-05-25 10:40:00      1\n",
      "2020-03-10 06:50:00      1\n",
      "2020-04-22 01:00:00      1\n",
      "2020-05-02 00:25:00      1\n",
      "2020-04-04 23:00:00      1\n",
      "Name: Arrival_Time, Length: 1450, dtype: int64\n",
      "2019-05-18    633\n",
      "2019-06-06    630\n",
      "2019-12-06    628\n",
      "2019-09-05    628\n",
      "2019-05-21    615\n",
      "2019-09-06    614\n",
      "2019-06-03    528\n",
      "2019-03-21    516\n",
      "2019-05-15    511\n",
      "2019-05-27    447\n",
      "2019-06-24    436\n",
      "2019-06-15    433\n",
      "2019-01-06    430\n",
      "2019-06-27    430\n",
      "2019-03-06    425\n",
      "2019-03-03    403\n",
      "2019-03-24    401\n",
      "2019-09-03    378\n",
      "2019-03-27    364\n",
      "2019-05-24    357\n",
      "2019-06-05    355\n",
      "2019-01-05    339\n",
      "2019-01-04    335\n",
      "2019-12-05    327\n",
      "2019-01-03    245\n",
      "2019-03-18    197\n",
      "2019-03-15    195\n",
      "2019-12-03    185\n",
      "2019-09-04    149\n",
      "2019-03-04    138\n",
      "2019-06-21    133\n",
      "2019-06-18    127\n",
      "2019-03-05    117\n",
      "2019-06-04    114\n",
      "2019-04-24    113\n",
      "2019-04-15    112\n",
      "2019-04-27    109\n",
      "2019-04-21    104\n",
      "2019-04-18     79\n",
      "2019-12-04     74\n",
      "Name: Date_of_Journey, dtype: int64\n",
      "2020-05-26 18:55:00    288\n",
      "2020-05-26 17:00:00    275\n",
      "2020-05-26 10:00:00    265\n",
      "2020-05-26 07:05:00    240\n",
      "2020-05-26 07:10:00    239\n",
      "                      ... \n",
      "2020-05-26 22:30:00      1\n",
      "2020-05-26 21:35:00      1\n",
      "2020-05-26 16:25:00      1\n",
      "2020-05-26 12:05:00      1\n",
      "2020-05-26 03:00:00      1\n",
      "Name: Dep_Time, Length: 223, dtype: int64\n",
      "Cochin       5682\n",
      "Banglore     3581\n",
      "Delhi        1582\n",
      "New Delhi    1170\n",
      "Hyderabad     883\n",
      "Kolkata       456\n",
      "Name: Destination, dtype: int64\n",
      "2h 50m     672\n",
      "1h 30m     493\n",
      "2h 45m     432\n",
      "2h 55m     418\n",
      "2h 35m     399\n",
      "          ... \n",
      "42h 45m      1\n",
      "32h 25m      1\n",
      "31h 30m      1\n",
      "28h 30m      1\n",
      "35h 20m      1\n",
      "Name: Duration, Length: 374, dtype: int64\n",
      "10262.0    258\n",
      "10844.0    212\n",
      "7229.0     162\n",
      "4804.0     160\n",
      "4823.0     131\n",
      "          ... \n",
      "14462.0      1\n",
      "6349.0       1\n",
      "3758.0       1\n",
      "6834.0       1\n",
      "9585.0       1\n",
      "Name: Price, Length: 1870, dtype: int64\n",
      "DEL → BOM → COK                3001\n",
      "BLR → DEL                      1941\n",
      "CCU → BOM → BLR                1232\n",
      "CCU → BLR                       896\n",
      "BOM → HYD                       785\n",
      "                               ... \n",
      "BOM → BBI → HYD                   1\n",
      "BOM → BLR → CCU → BBI → HYD       1\n",
      "CCU → IXZ → MAA → BLR             1\n",
      "BOM → IXC → DEL → HYD             1\n",
      "CCU → IXA → BLR                   1\n",
      "Name: Route, Length: 132, dtype: int64\n",
      "Delhi       5682\n",
      "Kolkata     3581\n",
      "Banglore    2752\n",
      "Mumbai       883\n",
      "Chennai      456\n",
      "Name: Source, dtype: int64\n",
      "1 stop      7057\n",
      "non-stop    4340\n",
      "2 stops     1899\n",
      "3 stops       56\n",
      "4 stops        2\n",
      "Name: Total_Stops, dtype: int64\n",
      "train    10683\n",
      "test      2671\n",
      "Name: data, dtype: int64\n"
     ]
    }
   ],
   "source": [
    "#getting the counts for unique values in each column\n",
    "for col in flight.columns:\n",
    "    print(flight[col].value_counts())"
   ]
  },
  {
   "cell_type": "code",
   "execution_count": 14,
   "metadata": {},
   "outputs": [],
   "source": [
    "#lets drop some columns which are unnecessary for prediction\n",
    "flight.drop(['Date_of_Journey','Route'],axis=1,inplace=True)"
   ]
  },
  {
   "cell_type": "code",
   "execution_count": 15,
   "metadata": {},
   "outputs": [],
   "source": [
    "#in the airline column,jet airways and jet airways bussines are two diffrent columns,similarly multiple carriers and vistara appears,so lets convert these to single columns\n",
    "flight[\"Airline\"]=flight[\"Airline\"].replace(\"Jet Airways Business\",\"Jet Airways\")\n",
    "flight[\"Airline\"]=flight[\"Airline\"].replace(\"Multiple carriers Premium economy\",\"Multiple carriers\")\n",
    "flight[\"Airline\"]=flight[\"Airline\"].replace(\"Vistara Premium economy\",\"Vistara\")"
   ]
  },
  {
   "cell_type": "markdown",
   "metadata": {},
   "source": [
    "As we see we have duration,arrival_time and departure time,all in the dataset,so lets take the duration from this diffrence and put to the dataset in right way.Duration given in the data is in object datatype,so lets shape it in right way."
   ]
  },
  {
   "cell_type": "code",
   "execution_count": 16,
   "metadata": {},
   "outputs": [
    {
     "data": {
      "text/plain": [
       "0       -66 days +02:50:00\n",
       "1          0 days 07:25:00\n",
       "2         14 days 19:00:00\n",
       "3          0 days 05:25:00\n",
       "4          0 days 04:45:00\n",
       "               ...        \n",
       "13349     11 days 23:55:00\n",
       "13350      0 days 02:35:00\n",
       "13351   -81 days +06:35:00\n",
       "13352      0 days 15:15:00\n",
       "13353      0 days 14:20:00\n",
       "Length: 13354, dtype: timedelta64[ns]"
      ]
     },
     "execution_count": 16,
     "metadata": {},
     "output_type": "execute_result"
    }
   ],
   "source": [
    "diff=flight['Arrival_Time']-flight['Dep_Time']\n",
    "diff"
   ]
  },
  {
   "cell_type": "code",
   "execution_count": 17,
   "metadata": {},
   "outputs": [],
   "source": [
    "list=[]\n",
    "for time in range(len(diff)):\n",
    "    interval=diff.iloc[time].seconds/3600\n",
    "    list.append(interval)\n",
    "flight[\"Duration\"]=list"
   ]
  },
  {
   "cell_type": "code",
   "execution_count": 18,
   "metadata": {},
   "outputs": [
    {
     "data": {
      "text/html": [
       "<div>\n",
       "<style scoped>\n",
       "    .dataframe tbody tr th:only-of-type {\n",
       "        vertical-align: middle;\n",
       "    }\n",
       "\n",
       "    .dataframe tbody tr th {\n",
       "        vertical-align: top;\n",
       "    }\n",
       "\n",
       "    .dataframe thead th {\n",
       "        text-align: right;\n",
       "    }\n",
       "</style>\n",
       "<table border=\"1\" class=\"dataframe\">\n",
       "  <thead>\n",
       "    <tr style=\"text-align: right;\">\n",
       "      <th></th>\n",
       "      <th>Additional_Info</th>\n",
       "      <th>Airline</th>\n",
       "      <th>Arrival_Time</th>\n",
       "      <th>Dep_Time</th>\n",
       "      <th>Destination</th>\n",
       "      <th>Duration</th>\n",
       "      <th>Price</th>\n",
       "      <th>Source</th>\n",
       "      <th>Total_Stops</th>\n",
       "      <th>data</th>\n",
       "    </tr>\n",
       "  </thead>\n",
       "  <tbody>\n",
       "    <tr>\n",
       "      <td>0</td>\n",
       "      <td>No info</td>\n",
       "      <td>IndiGo</td>\n",
       "      <td>2020-03-22 01:10:00</td>\n",
       "      <td>2020-05-26 22:20:00</td>\n",
       "      <td>New Delhi</td>\n",
       "      <td>2.833333</td>\n",
       "      <td>3897.0</td>\n",
       "      <td>Banglore</td>\n",
       "      <td>non-stop</td>\n",
       "      <td>train</td>\n",
       "    </tr>\n",
       "    <tr>\n",
       "      <td>1</td>\n",
       "      <td>No info</td>\n",
       "      <td>Air India</td>\n",
       "      <td>2020-05-26 13:15:00</td>\n",
       "      <td>2020-05-26 05:50:00</td>\n",
       "      <td>Banglore</td>\n",
       "      <td>7.416667</td>\n",
       "      <td>7662.0</td>\n",
       "      <td>Kolkata</td>\n",
       "      <td>2 stops</td>\n",
       "      <td>train</td>\n",
       "    </tr>\n",
       "    <tr>\n",
       "      <td>2</td>\n",
       "      <td>No info</td>\n",
       "      <td>Jet Airways</td>\n",
       "      <td>2020-06-10 04:25:00</td>\n",
       "      <td>2020-05-26 09:25:00</td>\n",
       "      <td>Cochin</td>\n",
       "      <td>19.000000</td>\n",
       "      <td>13882.0</td>\n",
       "      <td>Delhi</td>\n",
       "      <td>2 stops</td>\n",
       "      <td>train</td>\n",
       "    </tr>\n",
       "    <tr>\n",
       "      <td>3</td>\n",
       "      <td>No info</td>\n",
       "      <td>IndiGo</td>\n",
       "      <td>2020-05-26 23:30:00</td>\n",
       "      <td>2020-05-26 18:05:00</td>\n",
       "      <td>Banglore</td>\n",
       "      <td>5.416667</td>\n",
       "      <td>6218.0</td>\n",
       "      <td>Kolkata</td>\n",
       "      <td>1 stop</td>\n",
       "      <td>train</td>\n",
       "    </tr>\n",
       "    <tr>\n",
       "      <td>4</td>\n",
       "      <td>No info</td>\n",
       "      <td>IndiGo</td>\n",
       "      <td>2020-05-26 21:35:00</td>\n",
       "      <td>2020-05-26 16:50:00</td>\n",
       "      <td>New Delhi</td>\n",
       "      <td>4.750000</td>\n",
       "      <td>13302.0</td>\n",
       "      <td>Banglore</td>\n",
       "      <td>1 stop</td>\n",
       "      <td>train</td>\n",
       "    </tr>\n",
       "    <tr>\n",
       "      <td>...</td>\n",
       "      <td>...</td>\n",
       "      <td>...</td>\n",
       "      <td>...</td>\n",
       "      <td>...</td>\n",
       "      <td>...</td>\n",
       "      <td>...</td>\n",
       "      <td>...</td>\n",
       "      <td>...</td>\n",
       "      <td>...</td>\n",
       "      <td>...</td>\n",
       "    </tr>\n",
       "    <tr>\n",
       "      <td>13349</td>\n",
       "      <td>No info</td>\n",
       "      <td>Air India</td>\n",
       "      <td>2020-06-07 20:25:00</td>\n",
       "      <td>2020-05-26 20:30:00</td>\n",
       "      <td>Banglore</td>\n",
       "      <td>23.916667</td>\n",
       "      <td>NaN</td>\n",
       "      <td>Kolkata</td>\n",
       "      <td>1 stop</td>\n",
       "      <td>test</td>\n",
       "    </tr>\n",
       "    <tr>\n",
       "      <td>13350</td>\n",
       "      <td>No info</td>\n",
       "      <td>IndiGo</td>\n",
       "      <td>2020-05-26 16:55:00</td>\n",
       "      <td>2020-05-26 14:20:00</td>\n",
       "      <td>Banglore</td>\n",
       "      <td>2.583333</td>\n",
       "      <td>NaN</td>\n",
       "      <td>Kolkata</td>\n",
       "      <td>non-stop</td>\n",
       "      <td>test</td>\n",
       "    </tr>\n",
       "    <tr>\n",
       "      <td>13351</td>\n",
       "      <td>No info</td>\n",
       "      <td>Jet Airways</td>\n",
       "      <td>2020-03-07 04:25:00</td>\n",
       "      <td>2020-05-26 21:50:00</td>\n",
       "      <td>Cochin</td>\n",
       "      <td>6.583333</td>\n",
       "      <td>NaN</td>\n",
       "      <td>Delhi</td>\n",
       "      <td>1 stop</td>\n",
       "      <td>test</td>\n",
       "    </tr>\n",
       "    <tr>\n",
       "      <td>13352</td>\n",
       "      <td>No info</td>\n",
       "      <td>Air India</td>\n",
       "      <td>2020-05-26 19:15:00</td>\n",
       "      <td>2020-05-26 04:00:00</td>\n",
       "      <td>Cochin</td>\n",
       "      <td>15.250000</td>\n",
       "      <td>NaN</td>\n",
       "      <td>Delhi</td>\n",
       "      <td>1 stop</td>\n",
       "      <td>test</td>\n",
       "    </tr>\n",
       "    <tr>\n",
       "      <td>13353</td>\n",
       "      <td>No info</td>\n",
       "      <td>Multiple carriers</td>\n",
       "      <td>2020-05-26 19:15:00</td>\n",
       "      <td>2020-05-26 04:55:00</td>\n",
       "      <td>Cochin</td>\n",
       "      <td>14.333333</td>\n",
       "      <td>NaN</td>\n",
       "      <td>Delhi</td>\n",
       "      <td>1 stop</td>\n",
       "      <td>test</td>\n",
       "    </tr>\n",
       "  </tbody>\n",
       "</table>\n",
       "<p>13354 rows × 10 columns</p>\n",
       "</div>"
      ],
      "text/plain": [
       "      Additional_Info            Airline        Arrival_Time  \\\n",
       "0             No info             IndiGo 2020-03-22 01:10:00   \n",
       "1             No info          Air India 2020-05-26 13:15:00   \n",
       "2             No info        Jet Airways 2020-06-10 04:25:00   \n",
       "3             No info             IndiGo 2020-05-26 23:30:00   \n",
       "4             No info             IndiGo 2020-05-26 21:35:00   \n",
       "...               ...                ...                 ...   \n",
       "13349         No info          Air India 2020-06-07 20:25:00   \n",
       "13350         No info             IndiGo 2020-05-26 16:55:00   \n",
       "13351         No info        Jet Airways 2020-03-07 04:25:00   \n",
       "13352         No info          Air India 2020-05-26 19:15:00   \n",
       "13353         No info  Multiple carriers 2020-05-26 19:15:00   \n",
       "\n",
       "                 Dep_Time Destination   Duration    Price    Source  \\\n",
       "0     2020-05-26 22:20:00   New Delhi   2.833333   3897.0  Banglore   \n",
       "1     2020-05-26 05:50:00    Banglore   7.416667   7662.0   Kolkata   \n",
       "2     2020-05-26 09:25:00      Cochin  19.000000  13882.0     Delhi   \n",
       "3     2020-05-26 18:05:00    Banglore   5.416667   6218.0   Kolkata   \n",
       "4     2020-05-26 16:50:00   New Delhi   4.750000  13302.0  Banglore   \n",
       "...                   ...         ...        ...      ...       ...   \n",
       "13349 2020-05-26 20:30:00    Banglore  23.916667      NaN   Kolkata   \n",
       "13350 2020-05-26 14:20:00    Banglore   2.583333      NaN   Kolkata   \n",
       "13351 2020-05-26 21:50:00      Cochin   6.583333      NaN     Delhi   \n",
       "13352 2020-05-26 04:00:00      Cochin  15.250000      NaN     Delhi   \n",
       "13353 2020-05-26 04:55:00      Cochin  14.333333      NaN     Delhi   \n",
       "\n",
       "      Total_Stops   data  \n",
       "0        non-stop  train  \n",
       "1         2 stops  train  \n",
       "2         2 stops  train  \n",
       "3          1 stop  train  \n",
       "4          1 stop  train  \n",
       "...           ...    ...  \n",
       "13349      1 stop   test  \n",
       "13350    non-stop   test  \n",
       "13351      1 stop   test  \n",
       "13352      1 stop   test  \n",
       "13353      1 stop   test  \n",
       "\n",
       "[13354 rows x 10 columns]"
      ]
     },
     "execution_count": 18,
     "metadata": {},
     "output_type": "execute_result"
    }
   ],
   "source": [
    "flight"
   ]
  },
  {
   "cell_type": "code",
   "execution_count": 19,
   "metadata": {},
   "outputs": [],
   "source": [
    "#as we have duration in proper way,so lets drop the arrival time and departure time\n",
    "flight.drop(['Arrival_Time','Dep_Time'],axis=1,inplace=True)"
   ]
  },
  {
   "cell_type": "code",
   "execution_count": 20,
   "metadata": {},
   "outputs": [
    {
     "data": {
      "text/plain": [
       "Additional_Info       0\n",
       "Airline               0\n",
       "Destination           0\n",
       "Duration              0\n",
       "Price              2671\n",
       "Source                0\n",
       "Total_Stops           0\n",
       "data                  0\n",
       "dtype: int64"
      ]
     },
     "execution_count": 20,
     "metadata": {},
     "output_type": "execute_result"
    }
   ],
   "source": [
    "#lets check for any null values\n",
    "flight.isnull().sum()\n",
    "#so we see earlier the test dataset has one less column of price,so there is no need to manage this null. "
   ]
  },
  {
   "cell_type": "markdown",
   "metadata": {},
   "source": [
    "Data Visualisation"
   ]
  },
  {
   "cell_type": "code",
   "execution_count": 21,
   "metadata": {},
   "outputs": [
    {
     "data": {
      "text/plain": [
       "<matplotlib.axes._subplots.AxesSubplot at 0x1e53171e888>"
      ]
     },
     "execution_count": 21,
     "metadata": {},
     "output_type": "execute_result"
    },
    {
     "data": {
      "image/png": "[encoded data removed]",
      "text/plain": [
       "<Figure size 1440x360 with 1 Axes>"
      ]
     },
     "metadata": {
      "needs_background": "light"
     },
     "output_type": "display_data"
    }
   ],
   "source": [
    "#Analysis of the various airlines \n",
    "plt.figure(figsize=(20,5))\n",
    "sns.barplot(x=\"Airline\",y=\"Price\",data=flight)"
   ]
  },
  {
   "cell_type": "code",
   "execution_count": 22,
   "metadata": {},
   "outputs": [
    {
     "data": {
      "text/plain": [
       "<matplotlib.axes._subplots.AxesSubplot at 0x1e531b3b4c8>"
      ]
     },
     "execution_count": 22,
     "metadata": {},
     "output_type": "execute_result"
    },
    {
     "data": {
      "image/png": "[encoded data removed]",
      "text/plain": [
       "<Figure size 432x288 with 1 Axes>"
      ]
     },
     "metadata": {
      "needs_background": "light"
     },
     "output_type": "display_data"
    }
   ],
   "source": [
    "#getting price stats as compared to regions\n",
    "sns.barplot(x=\"Source\",y=\"Price\",data=flight)"
   ]
  },
  {
   "cell_type": "code",
   "execution_count": 23,
   "metadata": {},
   "outputs": [
    {
     "data": {
      "text/plain": [
       "<matplotlib.axes._subplots.AxesSubplot at 0x1e531916a88>"
      ]
     },
     "execution_count": 23,
     "metadata": {},
     "output_type": "execute_result"
    },
    {
     "data": {
      "image/png": "[encoded data removed]",
      "text/plain": [
       "<Figure size 432x288 with 1 Axes>"
      ]
     },
     "metadata": {
      "needs_background": "light"
     },
     "output_type": "display_data"
    }
   ],
   "source": [
    "#count for the total stops\n",
    "sns.countplot(flight['Total_Stops'])"
   ]
  },
  {
   "cell_type": "code",
   "execution_count": 24,
   "metadata": {},
   "outputs": [
    {
     "data": {
      "text/plain": [
       "<matplotlib.axes._subplots.AxesSubplot at 0x1e531935ec8>"
      ]
     },
     "execution_count": 24,
     "metadata": {},
     "output_type": "execute_result"
    },
    {
     "data": {
      "image/png": "[encoded data removed]",
      "text/plain": [
       "<Figure size 1800x720 with 1 Axes>"
      ]
     },
     "metadata": {
      "needs_background": "light"
     },
     "output_type": "display_data"
    }
   ],
   "source": [
    "#countplot for count of every regions wrt to airlines\n",
    "plt.figure(figsize=(25,10))\n",
    "sns.countplot(x=\"Source\",hue=\"Airline\",data=flight)"
   ]
  },
  {
   "cell_type": "code",
   "execution_count": 25,
   "metadata": {},
   "outputs": [
    {
     "data": {
      "text/html": [
       "<div>\n",
       "<style scoped>\n",
       "    .dataframe tbody tr th:only-of-type {\n",
       "        vertical-align: middle;\n",
       "    }\n",
       "\n",
       "    .dataframe tbody tr th {\n",
       "        vertical-align: top;\n",
       "    }\n",
       "\n",
       "    .dataframe thead th {\n",
       "        text-align: right;\n",
       "    }\n",
       "</style>\n",
       "<table border=\"1\" class=\"dataframe\">\n",
       "  <thead>\n",
       "    <tr style=\"text-align: right;\">\n",
       "      <th></th>\n",
       "      <th>Duration</th>\n",
       "      <th>Price</th>\n",
       "    </tr>\n",
       "  </thead>\n",
       "  <tbody>\n",
       "    <tr>\n",
       "      <td>Duration</td>\n",
       "      <td>1.000000</td>\n",
       "      <td>0.450205</td>\n",
       "    </tr>\n",
       "    <tr>\n",
       "      <td>Price</td>\n",
       "      <td>0.450205</td>\n",
       "      <td>1.000000</td>\n",
       "    </tr>\n",
       "  </tbody>\n",
       "</table>\n",
       "</div>"
      ],
      "text/plain": [
       "          Duration     Price\n",
       "Duration  1.000000  0.450205\n",
       "Price     0.450205  1.000000"
      ]
     },
     "execution_count": 25,
     "metadata": {},
     "output_type": "execute_result"
    }
   ],
   "source": [
    "#finding the correlation among features\n",
    "flight.corr()"
   ]
  },
  {
   "cell_type": "code",
   "execution_count": 26,
   "metadata": {},
   "outputs": [
    {
     "data": {
      "text/plain": [
       "<matplotlib.axes._subplots.AxesSubplot at 0x1e531cbf2c8>"
      ]
     },
     "execution_count": 26,
     "metadata": {},
     "output_type": "execute_result"
    },
    {
     "data": {
      "image/png": "[encoded data removed]",
      "text/plain": [
       "<Figure size 432x288 with 2 Axes>"
      ]
     },
     "metadata": {
      "needs_background": "light"
     },
     "output_type": "display_data"
    }
   ],
   "source": [
    "#plotting heatmap for the correlation\n",
    "sns.heatmap(flight.corr())"
   ]
  },
  {
   "cell_type": "code",
   "execution_count": 27,
   "metadata": {},
   "outputs": [
    {
     "data": {
      "text/plain": [
       "Additional_Info     object\n",
       "Airline             object\n",
       "Destination         object\n",
       "Duration           float64\n",
       "Price              float64\n",
       "Source              object\n",
       "Total_Stops         object\n",
       "data                object\n",
       "dtype: object"
      ]
     },
     "execution_count": 27,
     "metadata": {},
     "output_type": "execute_result"
    }
   ],
   "source": [
    "#checking for the datatype\n",
    "flight.dtypes"
   ]
  },
  {
   "cell_type": "code",
   "execution_count": 28,
   "metadata": {},
   "outputs": [],
   "source": [
    "#lets convert some object columns to labels\n",
    "from sklearn.preprocessing import LabelEncoder\n",
    "le=LabelEncoder()\n",
    "list=['Additional_Info','Airline','Destination','Source','Total_Stops']\n",
    "for val in list:\n",
    "    flight[val]=le.fit_transform(flight[val].astype(str))"
   ]
  },
  {
   "cell_type": "code",
   "execution_count": 29,
   "metadata": {},
   "outputs": [
    {
     "data": {
      "text/plain": [
       "array([[<matplotlib.axes._subplots.AxesSubplot object at 0x000001E531936588>,\n",
       "        <matplotlib.axes._subplots.AxesSubplot object at 0x000001E531EFDE88>,\n",
       "        <matplotlib.axes._subplots.AxesSubplot object at 0x000001E531C50508>],\n",
       "       [<matplotlib.axes._subplots.AxesSubplot object at 0x000001E532145E48>,\n",
       "        <matplotlib.axes._subplots.AxesSubplot object at 0x000001E532179748>,\n",
       "        <matplotlib.axes._subplots.AxesSubplot object at 0x000001E5321B2848>],\n",
       "       [<matplotlib.axes._subplots.AxesSubplot object at 0x000001E5321E9908>,\n",
       "        <matplotlib.axes._subplots.AxesSubplot object at 0x000001E532221A08>,\n",
       "        <matplotlib.axes._subplots.AxesSubplot object at 0x000001E53222E608>]],\n",
       "      dtype=object)"
      ]
     },
     "execution_count": 29,
     "metadata": {},
     "output_type": "execute_result"
    },
    {
     "data": {
      "image/png": "[encoded data removed]",
      "text/plain": [
       "<Figure size 1440x720 with 9 Axes>"
      ]
     },
     "metadata": {
      "needs_background": "light"
     },
     "output_type": "display_data"
    }
   ],
   "source": [
    "flight.hist(figsize=(20,10))"
   ]
  },
  {
   "cell_type": "code",
   "execution_count": 30,
   "metadata": {},
   "outputs": [],
   "source": [
    "#Now lets sepearte the train and test dataset\n",
    "\n",
    "flight_train=flight.loc[flight[\"data\"]==\"train\"]\n",
    "flight_test=flight.loc[flight[\"data\"]==\"test\"]"
   ]
  },
  {
   "cell_type": "code",
   "execution_count": 31,
   "metadata": {},
   "outputs": [],
   "source": [
    "flight_train.drop('data',axis=1,inplace=True)"
   ]
  },
  {
   "cell_type": "markdown",
   "metadata": {},
   "source": [
    "getting the statistical summary of data"
   ]
  },
  {
   "cell_type": "code",
   "execution_count": 32,
   "metadata": {},
   "outputs": [
    {
     "data": {
      "text/html": [
       "<div>\n",
       "<style scoped>\n",
       "    .dataframe tbody tr th:only-of-type {\n",
       "        vertical-align: middle;\n",
       "    }\n",
       "\n",
       "    .dataframe tbody tr th {\n",
       "        vertical-align: top;\n",
       "    }\n",
       "\n",
       "    .dataframe thead th {\n",
       "        text-align: right;\n",
       "    }\n",
       "</style>\n",
       "<table border=\"1\" class=\"dataframe\">\n",
       "  <thead>\n",
       "    <tr style=\"text-align: right;\">\n",
       "      <th></th>\n",
       "      <th>Additional_Info</th>\n",
       "      <th>Airline</th>\n",
       "      <th>Destination</th>\n",
       "      <th>Duration</th>\n",
       "      <th>Price</th>\n",
       "      <th>Source</th>\n",
       "      <th>Total_Stops</th>\n",
       "    </tr>\n",
       "  </thead>\n",
       "  <tbody>\n",
       "    <tr>\n",
       "      <td>count</td>\n",
       "      <td>10683.000000</td>\n",
       "      <td>10683.000000</td>\n",
       "      <td>10683.000000</td>\n",
       "      <td>10683.000000</td>\n",
       "      <td>10683.000000</td>\n",
       "      <td>10683.000000</td>\n",
       "      <td>10683.000000</td>\n",
       "    </tr>\n",
       "    <tr>\n",
       "      <td>mean</td>\n",
       "      <td>7.393054</td>\n",
       "      <td>3.607133</td>\n",
       "      <td>1.436113</td>\n",
       "      <td>8.206754</td>\n",
       "      <td>9087.064121</td>\n",
       "      <td>1.952261</td>\n",
       "      <td>1.458111</td>\n",
       "    </tr>\n",
       "    <tr>\n",
       "      <td>std</td>\n",
       "      <td>1.214211</td>\n",
       "      <td>1.790730</td>\n",
       "      <td>1.474782</td>\n",
       "      <td>6.387288</td>\n",
       "      <td>4611.359167</td>\n",
       "      <td>1.177221</td>\n",
       "      <td>1.806290</td>\n",
       "    </tr>\n",
       "    <tr>\n",
       "      <td>min</td>\n",
       "      <td>0.000000</td>\n",
       "      <td>0.000000</td>\n",
       "      <td>0.000000</td>\n",
       "      <td>0.000000</td>\n",
       "      <td>1759.000000</td>\n",
       "      <td>0.000000</td>\n",
       "      <td>0.000000</td>\n",
       "    </tr>\n",
       "    <tr>\n",
       "      <td>25%</td>\n",
       "      <td>8.000000</td>\n",
       "      <td>3.000000</td>\n",
       "      <td>0.000000</td>\n",
       "      <td>2.750000</td>\n",
       "      <td>5277.000000</td>\n",
       "      <td>2.000000</td>\n",
       "      <td>0.000000</td>\n",
       "    </tr>\n",
       "    <tr>\n",
       "      <td>50%</td>\n",
       "      <td>8.000000</td>\n",
       "      <td>4.000000</td>\n",
       "      <td>1.000000</td>\n",
       "      <td>6.333333</td>\n",
       "      <td>8372.000000</td>\n",
       "      <td>2.000000</td>\n",
       "      <td>0.000000</td>\n",
       "    </tr>\n",
       "    <tr>\n",
       "      <td>75%</td>\n",
       "      <td>8.000000</td>\n",
       "      <td>4.000000</td>\n",
       "      <td>2.000000</td>\n",
       "      <td>12.583333</td>\n",
       "      <td>12373.000000</td>\n",
       "      <td>3.000000</td>\n",
       "      <td>4.000000</td>\n",
       "    </tr>\n",
       "    <tr>\n",
       "      <td>max</td>\n",
       "      <td>9.000000</td>\n",
       "      <td>8.000000</td>\n",
       "      <td>5.000000</td>\n",
       "      <td>23.916667</td>\n",
       "      <td>79512.000000</td>\n",
       "      <td>4.000000</td>\n",
       "      <td>4.000000</td>\n",
       "    </tr>\n",
       "  </tbody>\n",
       "</table>\n",
       "</div>"
      ],
      "text/plain": [
       "       Additional_Info       Airline   Destination      Duration  \\\n",
       "count     10683.000000  10683.000000  10683.000000  10683.000000   \n",
       "mean          7.393054      3.607133      1.436113      8.206754   \n",
       "std           1.214211      1.790730      1.474782      6.387288   \n",
       "min           0.000000      0.000000      0.000000      0.000000   \n",
       "25%           8.000000      3.000000      0.000000      2.750000   \n",
       "50%           8.000000      4.000000      1.000000      6.333333   \n",
       "75%           8.000000      4.000000      2.000000     12.583333   \n",
       "max           9.000000      8.000000      5.000000     23.916667   \n",
       "\n",
       "              Price        Source   Total_Stops  \n",
       "count  10683.000000  10683.000000  10683.000000  \n",
       "mean    9087.064121      1.952261      1.458111  \n",
       "std     4611.359167      1.177221      1.806290  \n",
       "min     1759.000000      0.000000      0.000000  \n",
       "25%     5277.000000      2.000000      0.000000  \n",
       "50%     8372.000000      2.000000      0.000000  \n",
       "75%    12373.000000      3.000000      4.000000  \n",
       "max    79512.000000      4.000000      4.000000  "
      ]
     },
     "execution_count": 32,
     "metadata": {},
     "output_type": "execute_result"
    }
   ],
   "source": [
    "flight_train.describe()"
   ]
  },
  {
   "cell_type": "markdown",
   "metadata": {},
   "source": [
    "These data seems to be fair and have not much variation in mean and median values here.Some of the data needs to be scaled,so standard scaler need to be applied during execution. "
   ]
  },
  {
   "cell_type": "markdown",
   "metadata": {},
   "source": [
    "Shaping the data for machine learning process"
   ]
  },
  {
   "cell_type": "code",
   "execution_count": 33,
   "metadata": {},
   "outputs": [],
   "source": [
    "mod_x=flight_train.drop('Price',axis=1)\n",
    "y=flight_train['Price']"
   ]
  },
  {
   "cell_type": "code",
   "execution_count": 34,
   "metadata": {},
   "outputs": [
    {
     "data": {
      "text/plain": [
       "Additional_Info   -1.779838\n",
       "Airline            0.135708\n",
       "Destination        1.244169\n",
       "Duration           0.828928\n",
       "Source            -0.424054\n",
       "Total_Stops        0.631681\n",
       "dtype: float64"
      ]
     },
     "execution_count": 34,
     "metadata": {},
     "output_type": "execute_result"
    }
   ],
   "source": [
    "mod_x.skew()"
   ]
  },
  {
   "cell_type": "code",
   "execution_count": 35,
   "metadata": {},
   "outputs": [],
   "source": [
    "for col in mod_x.columns:\n",
    "    if mod_x[col].skew()>0.55:\n",
    "        mod_x[col]=np.log1p(mod_x[col])\n",
    "    if mod_x[col].skew()<-0.55:\n",
    "        mod_x[col]=np.sqrt(mod_x[col])"
   ]
  },
  {
   "cell_type": "code",
   "execution_count": 36,
   "metadata": {},
   "outputs": [],
   "source": [
    "#scaling the data using standard scaler\n",
    "\n",
    "from sklearn.preprocessing import StandardScaler\n",
    "scale=StandardScaler()\n",
    "x=scale.fit_transform(mod_x)\n",
    "x=pd.DataFrame(x,columns=mod_x.columns)"
   ]
  },
  {
   "cell_type": "code",
   "execution_count": 37,
   "metadata": {},
   "outputs": [],
   "source": [
    "#creating function for determining random state\n",
    "def random(alg):\n",
    "    r_state=0\n",
    "    for r_score in range(43,101):\n",
    "        x_train,x_test,y_train,y_test=train_test_split(x,y,test_size=0.33,random_state=r_score)\n",
    "        alg.fit(x_train,y_train)\n",
    "        pred=alg.predict(x_test)\n",
    "        r2scr=r2_score(y_test,pred)\n",
    "        if r2scr > r_state:\n",
    "            r_state=r2scr\n",
    "            final_r=r_score\n",
    "    print(r2scr,'at',final_r)"
   ]
  },
  {
   "cell_type": "code",
   "execution_count": 38,
   "metadata": {},
   "outputs": [],
   "source": [
    "#creating the function for algorithm operations\n",
    "def model(alg):\n",
    "    ml=alg\n",
    "    ml.fit(x_train,y_train)\n",
    "    pred=ml.predict(x_test)\n",
    "    print('mean_squared_error=',mean_squared_error(y_test,pred))\n",
    "    print('mean_absolute_error=',mean_absolute_error(y_test,pred))\n",
    "    print('r2_score=',r2_score(y_test,pred))\n",
    "    print('root_mean_squared_error=',np.sqrt(mean_squared_error(y_test,pred)))"
   ]
  },
  {
   "cell_type": "code",
   "execution_count": 39,
   "metadata": {},
   "outputs": [],
   "source": [
    "def cross_val(alg):\n",
    "    score=cross_val_score(alg,x,y,cv=5)\n",
    "    print('mean cross_val=',score.mean())\n",
    "    print('standard deviation=',score.std())"
   ]
  },
  {
   "cell_type": "markdown",
   "metadata": {},
   "source": [
    "Applying algorithm to the data"
   ]
  },
  {
   "cell_type": "code",
   "execution_count": 40,
   "metadata": {},
   "outputs": [
    {
     "name": "stdout",
     "output_type": "stream",
     "text": [
      "0.31927493412467056 at 98\n"
     ]
    }
   ],
   "source": [
    "from sklearn.linear_model import LinearRegression\n",
    "lm=LinearRegression()\n",
    "random(lm)"
   ]
  },
  {
   "cell_type": "code",
   "execution_count": 41,
   "metadata": {},
   "outputs": [
    {
     "name": "stdout",
     "output_type": "stream",
     "text": [
      "mean cross_val= 0.3214110328307719\n",
      "standard deviation= 0.011216230573773378\n"
     ]
    }
   ],
   "source": [
    "cross_val(lm)"
   ]
  },
  {
   "cell_type": "code",
   "execution_count": 42,
   "metadata": {},
   "outputs": [
    {
     "name": "stdout",
     "output_type": "stream",
     "text": [
      "0.64693514231521 at 58\n"
     ]
    }
   ],
   "source": [
    "from sklearn.tree import DecisionTreeRegressor\n",
    "dtr=DecisionTreeRegressor()\n",
    "random(dtr)"
   ]
  },
  {
   "cell_type": "code",
   "execution_count": 43,
   "metadata": {},
   "outputs": [
    {
     "name": "stdout",
     "output_type": "stream",
     "text": [
      "mean cross_val= 0.6687947221957004\n",
      "standard deviation= 0.03785204877016689\n"
     ]
    }
   ],
   "source": [
    "cross_val(dtr)"
   ]
  },
  {
   "cell_type": "code",
   "execution_count": 44,
   "metadata": {},
   "outputs": [
    {
     "data": {
      "text/plain": [
       "{'n_neighbors': 7}"
      ]
     },
     "execution_count": 44,
     "metadata": {},
     "output_type": "execute_result"
    }
   ],
   "source": [
    "from sklearn.neighbors import KNeighborsRegressor\n",
    "knr=KNeighborsRegressor()\n",
    "\n",
    "#determing best n_neighbors\n",
    "parameters={'n_neighbors':range(1,40)}\n",
    "grid=GridSearchCV(knr,parameters,cv=5)\n",
    "grid.fit(x,y)\n",
    "grid.best_params_"
   ]
  },
  {
   "cell_type": "code",
   "execution_count": 45,
   "metadata": {},
   "outputs": [
    {
     "name": "stdout",
     "output_type": "stream",
     "text": [
      "0.6789395251502759 at 99\n"
     ]
    }
   ],
   "source": [
    "knr=KNeighborsRegressor(n_neighbors=7)\n",
    "random(knr)"
   ]
  },
  {
   "cell_type": "code",
   "execution_count": 46,
   "metadata": {},
   "outputs": [
    {
     "name": "stdout",
     "output_type": "stream",
     "text": [
      "mean cross_val= 0.6924089809008823\n",
      "standard deviation= 0.011605471287584957\n"
     ]
    }
   ],
   "source": [
    "cross_val(knr)"
   ]
  },
  {
   "cell_type": "code",
   "execution_count": 47,
   "metadata": {},
   "outputs": [
    {
     "data": {
      "text/plain": [
       "{'C': 100, 'kernel': 'rbf'}"
      ]
     },
     "execution_count": 47,
     "metadata": {},
     "output_type": "execute_result"
    }
   ],
   "source": [
    "from sklearn.svm import SVR\n",
    "svm=SVR()\n",
    "\n",
    "#detrmining best kernel\n",
    "parameters={'kernel':['rbf','linear'],'C':[1,10,100]}\n",
    "grid=GridSearchCV(svm,parameters,cv=5)\n",
    "grid.fit(x,y)\n",
    "grid.best_params_"
   ]
  },
  {
   "cell_type": "code",
   "execution_count": 48,
   "metadata": {},
   "outputs": [
    {
     "name": "stdout",
     "output_type": "stream",
     "text": [
      "0.0628016923549729 at 65\n"
     ]
    }
   ],
   "source": [
    "svm=SVR(kernel='rbf')\n",
    "random(svm)"
   ]
  },
  {
   "cell_type": "code",
   "execution_count": 49,
   "metadata": {},
   "outputs": [
    {
     "data": {
      "text/plain": [
       "{'n_estimators': 500}"
      ]
     },
     "execution_count": 49,
     "metadata": {},
     "output_type": "execute_result"
    }
   ],
   "source": [
    "from sklearn.ensemble import RandomForestRegressor\n",
    "rfr=RandomForestRegressor()\n",
    "parameters={'n_estimators':[10,100,500]}\n",
    "grid=GridSearchCV(rfr,parameters,cv=5)\n",
    "grid.fit(x,y)\n",
    "grid.best_params_"
   ]
  },
  {
   "cell_type": "code",
   "execution_count": 50,
   "metadata": {},
   "outputs": [
    {
     "name": "stdout",
     "output_type": "stream",
     "text": [
      "0.7170888837520064 at 79\n"
     ]
    }
   ],
   "source": [
    "rfr=RandomForestRegressor(n_estimators=500)\n",
    "random(rfr)"
   ]
  },
  {
   "cell_type": "code",
   "execution_count": 51,
   "metadata": {},
   "outputs": [
    {
     "name": "stdout",
     "output_type": "stream",
     "text": [
      "mean cross_val= 0.7114988093177927\n",
      "standard deviation= 0.019525571571111754\n"
     ]
    }
   ],
   "source": [
    "cross_val(rfr)"
   ]
  },
  {
   "cell_type": "code",
   "execution_count": 52,
   "metadata": {},
   "outputs": [
    {
     "data": {
      "text/plain": [
       "{'learning_rate': 0.1, 'n_estimators': 500}"
      ]
     },
     "execution_count": 52,
     "metadata": {},
     "output_type": "execute_result"
    }
   ],
   "source": [
    "from sklearn.ensemble import GradientBoostingRegressor\n",
    "gbr=GradientBoostingRegressor()\n",
    "parameters={'learning_rate':[1,0.1,0.01,0.001],'n_estimators':[10,100,500]}\n",
    "grid=GridSearchCV(gbr,parameters,cv=5)\n",
    "grid.fit(x,y)\n",
    "grid.best_params_"
   ]
  },
  {
   "cell_type": "code",
   "execution_count": 53,
   "metadata": {},
   "outputs": [
    {
     "name": "stdout",
     "output_type": "stream",
     "text": [
      "0.7097405228611189 at 72\n"
     ]
    }
   ],
   "source": [
    "gbr=GradientBoostingRegressor(learning_rate=0.1,n_estimators=500)\n",
    "random(gbr)"
   ]
  },
  {
   "cell_type": "code",
   "execution_count": 54,
   "metadata": {},
   "outputs": [
    {
     "name": "stdout",
     "output_type": "stream",
     "text": [
      "mean cross_val= 0.7151606918880022\n",
      "standard deviation= 0.015399741735774101\n"
     ]
    }
   ],
   "source": [
    "cross_val(gbr)"
   ]
  },
  {
   "cell_type": "markdown",
   "metadata": {},
   "source": [
    "From the above solved algorithms,Random forest regressor has the best r2_score at the random_state of 79.So lets take it as a final algorithm"
   ]
  },
  {
   "cell_type": "code",
   "execution_count": 55,
   "metadata": {},
   "outputs": [
    {
     "name": "stdout",
     "output_type": "stream",
     "text": [
      "mean_squared_error= 5521401.258468476\n",
      "mean_absolute_error= 1384.3762690774138\n",
      "r2_score= 0.7392542928797041\n",
      "root_mean_squared_error= 2349.766213577103\n"
     ]
    }
   ],
   "source": [
    "x_train,x_test,y_train,y_test=train_test_split(x,y,test_size=0.33,random_state=79)\n",
    "model(rfr)"
   ]
  },
  {
   "cell_type": "markdown",
   "metadata": {},
   "source": [
    "Lets apply the best algorithm to the test data also"
   ]
  },
  {
   "cell_type": "code",
   "execution_count": 56,
   "metadata": {},
   "outputs": [
    {
     "data": {
      "text/html": [
       "<div>\n",
       "<style scoped>\n",
       "    .dataframe tbody tr th:only-of-type {\n",
       "        vertical-align: middle;\n",
       "    }\n",
       "\n",
       "    .dataframe tbody tr th {\n",
       "        vertical-align: top;\n",
       "    }\n",
       "\n",
       "    .dataframe thead th {\n",
       "        text-align: right;\n",
       "    }\n",
       "</style>\n",
       "<table border=\"1\" class=\"dataframe\">\n",
       "  <thead>\n",
       "    <tr style=\"text-align: right;\">\n",
       "      <th></th>\n",
       "      <th>Additional_Info</th>\n",
       "      <th>Airline</th>\n",
       "      <th>Destination</th>\n",
       "      <th>Duration</th>\n",
       "      <th>Price</th>\n",
       "      <th>Source</th>\n",
       "      <th>Total_Stops</th>\n",
       "      <th>data</th>\n",
       "    </tr>\n",
       "  </thead>\n",
       "  <tbody>\n",
       "    <tr>\n",
       "      <td>10683</td>\n",
       "      <td>8</td>\n",
       "      <td>4</td>\n",
       "      <td>1</td>\n",
       "      <td>10.916667</td>\n",
       "      <td>NaN</td>\n",
       "      <td>2</td>\n",
       "      <td>0</td>\n",
       "      <td>test</td>\n",
       "    </tr>\n",
       "    <tr>\n",
       "      <td>10684</td>\n",
       "      <td>8</td>\n",
       "      <td>3</td>\n",
       "      <td>0</td>\n",
       "      <td>4.000000</td>\n",
       "      <td>NaN</td>\n",
       "      <td>3</td>\n",
       "      <td>0</td>\n",
       "      <td>test</td>\n",
       "    </tr>\n",
       "    <tr>\n",
       "      <td>10685</td>\n",
       "      <td>5</td>\n",
       "      <td>4</td>\n",
       "      <td>1</td>\n",
       "      <td>23.750000</td>\n",
       "      <td>NaN</td>\n",
       "      <td>2</td>\n",
       "      <td>0</td>\n",
       "      <td>test</td>\n",
       "    </tr>\n",
       "    <tr>\n",
       "      <td>10686</td>\n",
       "      <td>8</td>\n",
       "      <td>5</td>\n",
       "      <td>1</td>\n",
       "      <td>13.000000</td>\n",
       "      <td>NaN</td>\n",
       "      <td>2</td>\n",
       "      <td>0</td>\n",
       "      <td>test</td>\n",
       "    </tr>\n",
       "    <tr>\n",
       "      <td>10687</td>\n",
       "      <td>8</td>\n",
       "      <td>0</td>\n",
       "      <td>2</td>\n",
       "      <td>2.833333</td>\n",
       "      <td>NaN</td>\n",
       "      <td>0</td>\n",
       "      <td>4</td>\n",
       "      <td>test</td>\n",
       "    </tr>\n",
       "    <tr>\n",
       "      <td>...</td>\n",
       "      <td>...</td>\n",
       "      <td>...</td>\n",
       "      <td>...</td>\n",
       "      <td>...</td>\n",
       "      <td>...</td>\n",
       "      <td>...</td>\n",
       "      <td>...</td>\n",
       "      <td>...</td>\n",
       "    </tr>\n",
       "    <tr>\n",
       "      <td>13349</td>\n",
       "      <td>8</td>\n",
       "      <td>1</td>\n",
       "      <td>0</td>\n",
       "      <td>23.916667</td>\n",
       "      <td>NaN</td>\n",
       "      <td>3</td>\n",
       "      <td>0</td>\n",
       "      <td>test</td>\n",
       "    </tr>\n",
       "    <tr>\n",
       "      <td>13350</td>\n",
       "      <td>8</td>\n",
       "      <td>3</td>\n",
       "      <td>0</td>\n",
       "      <td>2.583333</td>\n",
       "      <td>NaN</td>\n",
       "      <td>3</td>\n",
       "      <td>4</td>\n",
       "      <td>test</td>\n",
       "    </tr>\n",
       "    <tr>\n",
       "      <td>13351</td>\n",
       "      <td>8</td>\n",
       "      <td>4</td>\n",
       "      <td>1</td>\n",
       "      <td>6.583333</td>\n",
       "      <td>NaN</td>\n",
       "      <td>2</td>\n",
       "      <td>0</td>\n",
       "      <td>test</td>\n",
       "    </tr>\n",
       "    <tr>\n",
       "      <td>13352</td>\n",
       "      <td>8</td>\n",
       "      <td>1</td>\n",
       "      <td>1</td>\n",
       "      <td>15.250000</td>\n",
       "      <td>NaN</td>\n",
       "      <td>2</td>\n",
       "      <td>0</td>\n",
       "      <td>test</td>\n",
       "    </tr>\n",
       "    <tr>\n",
       "      <td>13353</td>\n",
       "      <td>8</td>\n",
       "      <td>5</td>\n",
       "      <td>1</td>\n",
       "      <td>14.333333</td>\n",
       "      <td>NaN</td>\n",
       "      <td>2</td>\n",
       "      <td>0</td>\n",
       "      <td>test</td>\n",
       "    </tr>\n",
       "  </tbody>\n",
       "</table>\n",
       "<p>2671 rows × 8 columns</p>\n",
       "</div>"
      ],
      "text/plain": [
       "       Additional_Info  Airline  Destination   Duration  Price  Source  \\\n",
       "10683                8        4            1  10.916667    NaN       2   \n",
       "10684                8        3            0   4.000000    NaN       3   \n",
       "10685                5        4            1  23.750000    NaN       2   \n",
       "10686                8        5            1  13.000000    NaN       2   \n",
       "10687                8        0            2   2.833333    NaN       0   \n",
       "...                ...      ...          ...        ...    ...     ...   \n",
       "13349                8        1            0  23.916667    NaN       3   \n",
       "13350                8        3            0   2.583333    NaN       3   \n",
       "13351                8        4            1   6.583333    NaN       2   \n",
       "13352                8        1            1  15.250000    NaN       2   \n",
       "13353                8        5            1  14.333333    NaN       2   \n",
       "\n",
       "       Total_Stops  data  \n",
       "10683            0  test  \n",
       "10684            0  test  \n",
       "10685            0  test  \n",
       "10686            0  test  \n",
       "10687            4  test  \n",
       "...            ...   ...  \n",
       "13349            0  test  \n",
       "13350            4  test  \n",
       "13351            0  test  \n",
       "13352            0  test  \n",
       "13353            0  test  \n",
       "\n",
       "[2671 rows x 8 columns]"
      ]
     },
     "execution_count": 56,
     "metadata": {},
     "output_type": "execute_result"
    }
   ],
   "source": [
    "flight_test"
   ]
  },
  {
   "cell_type": "code",
   "execution_count": 57,
   "metadata": {},
   "outputs": [],
   "source": [
    "#lets drop price and data column\n",
    "flight_test.drop(['Price','data'],axis=1,inplace=True)"
   ]
  },
  {
   "cell_type": "code",
   "execution_count": 58,
   "metadata": {},
   "outputs": [],
   "source": [
    "#lets scale the data for the modelling\n",
    "test_x=scale.fit_transform(flight_test)\n",
    "df_x=pd.DataFrame(test_x,columns=flight_test.columns)"
   ]
  },
  {
   "cell_type": "code",
   "execution_count": 59,
   "metadata": {},
   "outputs": [],
   "source": [
    "price_pred=rfr.predict(df_x)"
   ]
  },
  {
   "cell_type": "code",
   "execution_count": 60,
   "metadata": {},
   "outputs": [
    {
     "data": {
      "text/plain": [
       "['rfr_flight_ticket.pkl']"
      ]
     },
     "execution_count": 60,
     "metadata": {},
     "output_type": "execute_result"
    }
   ],
   "source": [
    "#saving the model\n",
    "from sklearn.externals import joblib\n",
    "joblib.dump(rfr,'rfr_flight_ticket.pkl')"
   ]
  },
  {
   "cell_type": "markdown",
   "metadata": {},
   "source": [
    "## Conclusion\n",
    "\n",
    "After importing the dataset,I checked for the null values for both train & test dataset.Train dataset has some null values identified which i replaced using mode() of the repective column.I drop some of the column which i don't feel as a needy one.Then i concat the bot train and test dataset.I plots various graphs to see the data insights,correlation using heatmap.Then convert the categorical columns to labels using LabelEncoder.As we have to perform operations in train dataset,so i seperate them both from the merged datset.After checking for statistical summary,I seperate the input and target variables and scale the data using Standard scaler.After applying for various algorithms,we get the best fit algorithm from Random Forest Regressor."
   ]
  }
 ],
 "metadata": {
  "kernelspec": {
   "display_name": "Python 3",
   "language": "python",
   "name": "python3"
  },
  "language_info": {
   "codemirror_mode": {
    "name": "ipython",
    "version": 3
   },
   "file_extension": ".py",
   "mimetype": "text/x-python",
   "name": "python",
   "nbconvert_exporter": "python",
   "pygments_lexer": "ipython3",
   "version": "3.7.4"
  }
 },
 "nbformat": 4,
 "nbformat_minor": 2
}
